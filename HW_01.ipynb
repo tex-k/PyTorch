{
 "cells": [
  {
   "cell_type": "code",
   "execution_count": 3,
   "metadata": {},
   "outputs": [],
   "source": [
    "import torch"
   ]
  },
  {
   "cell_type": "code",
   "execution_count": 2,
   "metadata": {},
   "outputs": [],
   "source": [
    "# Создайте случайный FloatTensor размера 3x4x5"
   ]
  },
  {
   "cell_type": "code",
   "execution_count": 26,
   "metadata": {},
   "outputs": [
    {
     "data": {
      "text/plain": [
       "tensor([[[0.3251, 0.9453, 0.6861, 0.4872, 0.2490],\n",
       "         [0.8801, 0.5317, 0.9815, 0.7199, 0.7772],\n",
       "         [0.5540, 0.4862, 0.6667, 0.9870, 0.9920],\n",
       "         [0.3348, 0.9837, 0.6060, 0.3075, 0.8200]],\n",
       "\n",
       "        [[0.0495, 0.0275, 0.1766, 0.2311, 0.4416],\n",
       "         [0.0638, 0.4533, 0.3295, 0.5081, 0.1056],\n",
       "         [0.7298, 0.0208, 0.1561, 0.0154, 0.6458],\n",
       "         [0.2774, 0.1401, 0.7727, 0.5772, 0.9790]],\n",
       "\n",
       "        [[0.5257, 0.5288, 0.6888, 0.4497, 0.7785],\n",
       "         [0.9942, 0.9800, 0.2348, 0.2953, 0.3127],\n",
       "         [0.9583, 0.0709, 0.2898, 0.3799, 0.8374],\n",
       "         [0.9431, 0.6653, 0.6807, 0.4735, 0.0812]]])"
      ]
     },
     "execution_count": 26,
     "metadata": {},
     "output_type": "execute_result"
    }
   ],
   "source": [
    "t1 = torch.rand(3, 4, 5)\n",
    "t1"
   ]
  },
  {
   "cell_type": "code",
   "execution_count": 3,
   "metadata": {},
   "outputs": [],
   "source": [
    "# Выведите его форму (shape)"
   ]
  },
  {
   "cell_type": "code",
   "execution_count": 27,
   "metadata": {},
   "outputs": [
    {
     "data": {
      "text/plain": [
       "torch.Size([3, 4, 5])"
      ]
     },
     "execution_count": 27,
     "metadata": {},
     "output_type": "execute_result"
    }
   ],
   "source": [
    "t1.shape"
   ]
  },
  {
   "cell_type": "code",
   "execution_count": 4,
   "metadata": {},
   "outputs": [],
   "source": [
    "# Приведите его к форме 6 X 10"
   ]
  },
  {
   "cell_type": "code",
   "execution_count": 28,
   "metadata": {},
   "outputs": [
    {
     "data": {
      "text/plain": [
       "tensor([[0.3251, 0.9453, 0.6861, 0.4872, 0.2490, 0.8801, 0.5317, 0.9815, 0.7199,\n",
       "         0.7772],\n",
       "        [0.5540, 0.4862, 0.6667, 0.9870, 0.9920, 0.3348, 0.9837, 0.6060, 0.3075,\n",
       "         0.8200],\n",
       "        [0.0495, 0.0275, 0.1766, 0.2311, 0.4416, 0.0638, 0.4533, 0.3295, 0.5081,\n",
       "         0.1056],\n",
       "        [0.7298, 0.0208, 0.1561, 0.0154, 0.6458, 0.2774, 0.1401, 0.7727, 0.5772,\n",
       "         0.9790],\n",
       "        [0.5257, 0.5288, 0.6888, 0.4497, 0.7785, 0.9942, 0.9800, 0.2348, 0.2953,\n",
       "         0.3127],\n",
       "        [0.9583, 0.0709, 0.2898, 0.3799, 0.8374, 0.9431, 0.6653, 0.6807, 0.4735,\n",
       "         0.0812]])"
      ]
     },
     "execution_count": 28,
     "metadata": {},
     "output_type": "execute_result"
    }
   ],
   "source": [
    "t2 = t1.reshape(6, 10)\n",
    "t2"
   ]
  },
  {
   "cell_type": "code",
   "execution_count": 5,
   "metadata": {},
   "outputs": [],
   "source": [
    "# Умножьте его на вектор [1, 4, 2, 2, 1] поэлементно"
   ]
  },
  {
   "cell_type": "code",
   "execution_count": 29,
   "metadata": {},
   "outputs": [
    {
     "data": {
      "text/plain": [
       "tensor([[[0.3251, 3.7810, 1.3721, 0.9745, 0.2490],\n",
       "         [0.8801, 2.1269, 1.9631, 1.4397, 0.7772],\n",
       "         [0.5540, 1.9449, 1.3335, 1.9739, 0.9920],\n",
       "         [0.3348, 3.9347, 1.2121, 0.6149, 0.8200]],\n",
       "\n",
       "        [[0.0495, 0.1100, 0.3532, 0.4622, 0.4416],\n",
       "         [0.0638, 1.8130, 0.6589, 1.0163, 0.1056],\n",
       "         [0.7298, 0.0834, 0.3121, 0.0308, 0.6458],\n",
       "         [0.2774, 0.5604, 1.5455, 1.1544, 0.9790]],\n",
       "\n",
       "        [[0.5257, 2.1151, 1.3776, 0.8994, 0.7785],\n",
       "         [0.9942, 3.9202, 0.4697, 0.5906, 0.3127],\n",
       "         [0.9583, 0.2835, 0.5797, 0.7597, 0.8374],\n",
       "         [0.9431, 2.6612, 1.3613, 0.9469, 0.0812]]])"
      ]
     },
     "execution_count": 29,
     "metadata": {},
     "output_type": "execute_result"
    }
   ],
   "source": [
    "t1 * torch.Tensor([1, 4, 2, 2, 1])"
   ]
  },
  {
   "cell_type": "code",
   "execution_count": 6,
   "metadata": {},
   "outputs": [],
   "source": [
    "# Умножьте тензор матрично на себя, чтобы результат был размерности 6x6"
   ]
  },
  {
   "cell_type": "code",
   "execution_count": 46,
   "metadata": {},
   "outputs": [
    {
     "data": {
      "text/plain": [
       "tensor([[4.9122, 4.0962, 1.4543, 2.7858, 3.6384, 3.2268],\n",
       "        [4.0962, 5.1600, 1.7345, 2.8536, 4.0101, 3.5592],\n",
       "        [1.4543, 1.7345, 0.8703, 1.0855, 1.3780, 1.3933],\n",
       "        [2.7858, 2.8536, 1.0855, 2.9600, 2.0829, 2.5262],\n",
       "        [3.6384, 4.0101, 1.3780, 2.0829, 4.0276, 3.4782],\n",
       "        [3.2268, 3.5592, 1.3933, 2.5262, 3.4782, 3.8791]])"
      ]
     },
     "execution_count": 46,
     "metadata": {},
     "output_type": "execute_result"
    }
   ],
   "source": [
    "t2.matmul(t2.T)"
   ]
  },
  {
   "cell_type": "code",
   "execution_count": 7,
   "metadata": {},
   "outputs": [],
   "source": [
    "# Посчитайте производную функции y = x**3 + z - 75t в точке (1, 0.5, 2)"
   ]
  },
  {
   "cell_type": "code",
   "execution_count": 73,
   "metadata": {},
   "outputs": [
    {
     "name": "stdout",
     "output_type": "stream",
     "text": [
      "tensor(3.) tensor(1.) tensor(-75.)\n"
     ]
    }
   ],
   "source": [
    "x = torch.tensor(1.0, requires_grad = True)\n",
    "z = torch.tensor(0.5, requires_grad = True)\n",
    "t = torch.tensor(2.0, requires_grad = True)\n",
    "\n",
    "y = x**3 + z - 75*t\n",
    "\n",
    "y.backward()\n",
    "\n",
    "print(x.grad, z.grad, t.grad)"
   ]
  },
  {
   "cell_type": "code",
   "execution_count": 8,
   "metadata": {},
   "outputs": [],
   "source": [
    "# Создайте единичный тензор размера 5x6"
   ]
  },
  {
   "cell_type": "code",
   "execution_count": 43,
   "metadata": {},
   "outputs": [
    {
     "data": {
      "text/plain": [
       "tensor([[1., 1., 1., 1., 1., 1.],\n",
       "        [1., 1., 1., 1., 1., 1.],\n",
       "        [1., 1., 1., 1., 1., 1.],\n",
       "        [1., 1., 1., 1., 1., 1.],\n",
       "        [1., 1., 1., 1., 1., 1.]])"
      ]
     },
     "execution_count": 43,
     "metadata": {},
     "output_type": "execute_result"
    }
   ],
   "source": [
    "t = torch.ones(5, 6)\n",
    "t"
   ]
  },
  {
   "cell_type": "code",
   "execution_count": 42,
   "metadata": {},
   "outputs": [],
   "source": [
    "# Переведите его в формат numpy"
   ]
  },
  {
   "cell_type": "code",
   "execution_count": 44,
   "metadata": {},
   "outputs": [
    {
     "data": {
      "text/plain": [
       "array([[1., 1., 1., 1., 1., 1.],\n",
       "       [1., 1., 1., 1., 1., 1.],\n",
       "       [1., 1., 1., 1., 1., 1.],\n",
       "       [1., 1., 1., 1., 1., 1.],\n",
       "       [1., 1., 1., 1., 1., 1.]], dtype=float32)"
      ]
     },
     "execution_count": 44,
     "metadata": {},
     "output_type": "execute_result"
    }
   ],
   "source": [
    "t.numpy()"
   ]
  },
  {
   "cell_type": "code",
   "execution_count": null,
   "metadata": {},
   "outputs": [],
   "source": []
  }
 ],
 "metadata": {
  "kernelspec": {
   "display_name": "Python 3 (ipykernel)",
   "language": "python",
   "name": "python3"
  },
  "language_info": {
   "codemirror_mode": {
    "name": "ipython",
    "version": 3
   },
   "file_extension": ".py",
   "mimetype": "text/x-python",
   "name": "python",
   "nbconvert_exporter": "python",
   "pygments_lexer": "ipython3",
   "version": "3.9.7"
  }
 },
 "nbformat": 4,
 "nbformat_minor": 2
}
